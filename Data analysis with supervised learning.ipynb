{
 "cells": [
  {
   "cell_type": "markdown",
   "metadata": {},
   "source": [
    "<center><h5> Data Science For Suppy Chain & Operations </h5></center>"
   ]
  },
  {
   "cell_type": "markdown",
   "metadata": {},
   "source": [
    "* Après les travaux d'analyse exploratoire des données et de création et préparation des variables, nous nous intéressons à l'implémentation et l'évaluation de modèles **d'apprentissage supervisé**\n",
    "* A noter que ce Notebook contient quelques exemples de modèles auxquels on s'intéressera. La liste de ces modèles n'est pas du tout exhaustive."
   ]
  },
  {
   "cell_type": "markdown",
   "metadata": {
    "heading_collapsed": true
   },
   "source": [
    "# 0. Rappel - Problématique et jeu de donnée préparés"
   ]
  },
  {
   "cell_type": "code",
   "execution_count": 1,
   "metadata": {
    "hidden": true
   },
   "outputs": [],
   "source": [
    "import numpy as np\n",
    "import pandas as pd\n",
    "## On peut choisir le nombre max de lignes/colonnes à voir\n",
    "pd.set_option('display.max_columns', 500)\n",
    "pd.set_option(\"display.max_rows\", 500)\n",
    "pd.options.display.float_format = '{:,.2f}'.format\n",
    "\n",
    "import datetime\n",
    "\n",
    "import matplotlib.pyplot as plt\n",
    "%matplotlib inline\n",
    "from matplotlib.dates import DateFormatter\n",
    "import seaborn as sns\n",
    "sns.set(color_codes = True)\n",
    "sns.set_style(\"whitegrid\")\n",
    "\n",
    "import warnings\n",
    "warnings.filterwarnings(\"ignore\")\n",
    "\n",
    "from sklearn.preprocessing import OneHotEncoder,  FunctionTransformer, OrdinalEncoder\n",
    "#scaler\n",
    "from sklearn.preprocessing import StandardScaler\n",
    "#column transformer  and pipeline\n",
    "from sklearn.compose import ColumnTransformer\n",
    "from sklearn.pipeline import Pipeline, make_pipeline\n",
    "#model selection \n",
    "from sklearn.model_selection import cross_val_score, KFold, GroupShuffleSplit\n",
    "from sklearn.model_selection import GridSearchCV\n",
    "#linear models\n",
    "from sklearn.linear_model import LogisticRegressionCV, LassoCV\n",
    "#ensemble models\n",
    "from sklearn.ensemble import RandomForestClassifier, RandomForestRegressor, GradientBoostingClassifier, GradientBoostingRegressor\n",
    "#evaluation \n",
    "from sklearn.metrics import mean_squared_error, r2_score"
   ]
  },
  {
   "cell_type": "markdown",
   "metadata": {
    "hidden": true
   },
   "source": [
    "<h5> Charger le fichier de données obtenu de l'autre Notebook </h5>"
   ]
  },
  {
   "cell_type": "code",
   "execution_count": 2,
   "metadata": {
    "hidden": true
   },
   "outputs": [],
   "source": [
    "# Lire les données du dataset\n",
    "path = 'dataset/data.csv'\n",
    "df = pd.read_csv(path, parse_dates = [\"Date\"])"
   ]
  },
  {
   "cell_type": "markdown",
   "metadata": {
    "hidden": true
   },
   "source": [
    "**Rappel de l'objectif** : Prédire les ventes sur une période de $6$  semaines (ou autres) en construisant un modèle de prédiction basé sur une sélection de variables les plus pertinentes pour permettre également d'expliquer l'évolution des ventes. \n",
    "\n",
    "**Intérêt métier**:\n",
    "- Une entreprise qui estime mal ses ventes peut :\n",
    "    - produire trop et perdre de l'argent en coûts de stockage, (même si elle peut limiter les pertes en procédant à des discounts sur son surplus) \n",
    "    - Produire trop peu et dans ce cas là il y a un manque à gagner dû à la demande non satisfaite \n",
    "- De plus, un modèle de prévision des ventes peut permettre d'identifier les facteurs qui influent sur les ventes et peut donc permettre d'identifier des leviers d'actions booster les ventes \n",
    "\n",
    "Pour la modélisation, on peut penser à différents scénarios ou différentes stratégies, par exemple :\n",
    "    - Un modèle de séries temporelles\n",
    "    - Un modèle de Machine learning où l'on créé des features temporelles \n",
    "    - etc.\n",
    "- Dans la suite, nous allons aborder la **deuxième approche** (Machine Learning) à travers différents modèles. La première approche nécessiterait de construire un modèle par store et il se peut que la profondeur historique des données ne soit pas suffisante pour créer des modèles performants."
   ]
  },
  {
   "cell_type": "markdown",
   "metadata": {
    "hidden": true
   },
   "source": [
    "Lors du cours précédent, nous avons réalisé des premiers travaux d'analyses des données et de préparation d'un data set agrégé. Nous continuerons cette préparation dans ce Notebook avant d'enchainer sur les modèles."
   ]
  },
  {
   "cell_type": "code",
   "execution_count": 3,
   "metadata": {
    "hidden": true
   },
   "outputs": [
    {
     "data": {
      "text/html": [
       "<div>\n",
       "<style scoped>\n",
       "    .dataframe tbody tr th:only-of-type {\n",
       "        vertical-align: middle;\n",
       "    }\n",
       "\n",
       "    .dataframe tbody tr th {\n",
       "        vertical-align: top;\n",
       "    }\n",
       "\n",
       "    .dataframe thead th {\n",
       "        text-align: right;\n",
       "    }\n",
       "</style>\n",
       "<table border=\"1\" class=\"dataframe\">\n",
       "  <thead>\n",
       "    <tr style=\"text-align: right;\">\n",
       "      <th></th>\n",
       "      <th>Store</th>\n",
       "      <th>DayOfWeek</th>\n",
       "      <th>Date</th>\n",
       "      <th>Sales</th>\n",
       "      <th>Customers</th>\n",
       "      <th>Open</th>\n",
       "      <th>Promo</th>\n",
       "      <th>StateHoliday</th>\n",
       "      <th>SchoolHoliday</th>\n",
       "      <th>StoreType</th>\n",
       "      <th>Assortment</th>\n",
       "      <th>CompetitionDistance</th>\n",
       "      <th>CompetitionOpenSinceMonth</th>\n",
       "      <th>CompetitionOpenSinceYear</th>\n",
       "      <th>Promo2</th>\n",
       "      <th>Promo2SinceWeek</th>\n",
       "      <th>Promo2SinceYear</th>\n",
       "      <th>PromoInterval</th>\n",
       "      <th>Avg_Sales_Per_Customer</th>\n",
       "      <th>Day</th>\n",
       "      <th>Month</th>\n",
       "      <th>Year</th>\n",
       "      <th>CompetitionOpenSince</th>\n",
       "      <th>Promo2Since</th>\n",
       "    </tr>\n",
       "  </thead>\n",
       "  <tbody>\n",
       "    <tr>\n",
       "      <th>0</th>\n",
       "      <td>1</td>\n",
       "      <td>5</td>\n",
       "      <td>2015-07-31</td>\n",
       "      <td>5263</td>\n",
       "      <td>555</td>\n",
       "      <td>1</td>\n",
       "      <td>1</td>\n",
       "      <td>0</td>\n",
       "      <td>1</td>\n",
       "      <td>c</td>\n",
       "      <td>a</td>\n",
       "      <td>1,270.00</td>\n",
       "      <td>9.00</td>\n",
       "      <td>2,008.00</td>\n",
       "      <td>0</td>\n",
       "      <td>0.00</td>\n",
       "      <td>0.00</td>\n",
       "      <td>0</td>\n",
       "      <td>9.48</td>\n",
       "      <td>31</td>\n",
       "      <td>7</td>\n",
       "      <td>2015</td>\n",
       "      <td>2008-09-01 00:00:00</td>\n",
       "      <td>0</td>\n",
       "    </tr>\n",
       "    <tr>\n",
       "      <th>1</th>\n",
       "      <td>2</td>\n",
       "      <td>5</td>\n",
       "      <td>2015-07-31</td>\n",
       "      <td>6064</td>\n",
       "      <td>625</td>\n",
       "      <td>1</td>\n",
       "      <td>1</td>\n",
       "      <td>0</td>\n",
       "      <td>1</td>\n",
       "      <td>a</td>\n",
       "      <td>a</td>\n",
       "      <td>570.00</td>\n",
       "      <td>11.00</td>\n",
       "      <td>2,007.00</td>\n",
       "      <td>1</td>\n",
       "      <td>13.00</td>\n",
       "      <td>2,010.00</td>\n",
       "      <td>Jan,Apr,Jul,Oct</td>\n",
       "      <td>9.70</td>\n",
       "      <td>31</td>\n",
       "      <td>7</td>\n",
       "      <td>2015</td>\n",
       "      <td>2007-11-01 00:00:00</td>\n",
       "      <td>2010-03-29 00:00:00</td>\n",
       "    </tr>\n",
       "    <tr>\n",
       "      <th>2</th>\n",
       "      <td>3</td>\n",
       "      <td>5</td>\n",
       "      <td>2015-07-31</td>\n",
       "      <td>8314</td>\n",
       "      <td>821</td>\n",
       "      <td>1</td>\n",
       "      <td>1</td>\n",
       "      <td>0</td>\n",
       "      <td>1</td>\n",
       "      <td>a</td>\n",
       "      <td>a</td>\n",
       "      <td>14,130.00</td>\n",
       "      <td>12.00</td>\n",
       "      <td>2,006.00</td>\n",
       "      <td>1</td>\n",
       "      <td>14.00</td>\n",
       "      <td>2,011.00</td>\n",
       "      <td>Jan,Apr,Jul,Oct</td>\n",
       "      <td>10.13</td>\n",
       "      <td>31</td>\n",
       "      <td>7</td>\n",
       "      <td>2015</td>\n",
       "      <td>2006-12-01 00:00:00</td>\n",
       "      <td>2011-04-04 00:00:00</td>\n",
       "    </tr>\n",
       "    <tr>\n",
       "      <th>3</th>\n",
       "      <td>4</td>\n",
       "      <td>5</td>\n",
       "      <td>2015-07-31</td>\n",
       "      <td>13995</td>\n",
       "      <td>1498</td>\n",
       "      <td>1</td>\n",
       "      <td>1</td>\n",
       "      <td>0</td>\n",
       "      <td>1</td>\n",
       "      <td>c</td>\n",
       "      <td>c</td>\n",
       "      <td>620.00</td>\n",
       "      <td>9.00</td>\n",
       "      <td>2,009.00</td>\n",
       "      <td>0</td>\n",
       "      <td>0.00</td>\n",
       "      <td>0.00</td>\n",
       "      <td>0</td>\n",
       "      <td>9.34</td>\n",
       "      <td>31</td>\n",
       "      <td>7</td>\n",
       "      <td>2015</td>\n",
       "      <td>2009-09-01 00:00:00</td>\n",
       "      <td>0</td>\n",
       "    </tr>\n",
       "    <tr>\n",
       "      <th>4</th>\n",
       "      <td>5</td>\n",
       "      <td>5</td>\n",
       "      <td>2015-07-31</td>\n",
       "      <td>4822</td>\n",
       "      <td>559</td>\n",
       "      <td>1</td>\n",
       "      <td>1</td>\n",
       "      <td>0</td>\n",
       "      <td>1</td>\n",
       "      <td>a</td>\n",
       "      <td>a</td>\n",
       "      <td>29,910.00</td>\n",
       "      <td>4.00</td>\n",
       "      <td>2,015.00</td>\n",
       "      <td>0</td>\n",
       "      <td>0.00</td>\n",
       "      <td>0.00</td>\n",
       "      <td>0</td>\n",
       "      <td>8.63</td>\n",
       "      <td>31</td>\n",
       "      <td>7</td>\n",
       "      <td>2015</td>\n",
       "      <td>2015-04-01 00:00:00</td>\n",
       "      <td>0</td>\n",
       "    </tr>\n",
       "  </tbody>\n",
       "</table>\n",
       "</div>"
      ],
      "text/plain": [
       "   Store  DayOfWeek       Date  Sales  Customers  Open  Promo StateHoliday  \\\n",
       "0      1          5 2015-07-31   5263        555     1      1            0   \n",
       "1      2          5 2015-07-31   6064        625     1      1            0   \n",
       "2      3          5 2015-07-31   8314        821     1      1            0   \n",
       "3      4          5 2015-07-31  13995       1498     1      1            0   \n",
       "4      5          5 2015-07-31   4822        559     1      1            0   \n",
       "\n",
       "   SchoolHoliday StoreType Assortment  CompetitionDistance  \\\n",
       "0              1         c          a             1,270.00   \n",
       "1              1         a          a               570.00   \n",
       "2              1         a          a            14,130.00   \n",
       "3              1         c          c               620.00   \n",
       "4              1         a          a            29,910.00   \n",
       "\n",
       "   CompetitionOpenSinceMonth  CompetitionOpenSinceYear  Promo2  \\\n",
       "0                       9.00                  2,008.00       0   \n",
       "1                      11.00                  2,007.00       1   \n",
       "2                      12.00                  2,006.00       1   \n",
       "3                       9.00                  2,009.00       0   \n",
       "4                       4.00                  2,015.00       0   \n",
       "\n",
       "   Promo2SinceWeek  Promo2SinceYear    PromoInterval  Avg_Sales_Per_Customer  \\\n",
       "0             0.00             0.00                0                    9.48   \n",
       "1            13.00         2,010.00  Jan,Apr,Jul,Oct                    9.70   \n",
       "2            14.00         2,011.00  Jan,Apr,Jul,Oct                   10.13   \n",
       "3             0.00             0.00                0                    9.34   \n",
       "4             0.00             0.00                0                    8.63   \n",
       "\n",
       "   Day  Month  Year CompetitionOpenSince          Promo2Since  \n",
       "0   31      7  2015  2008-09-01 00:00:00                    0  \n",
       "1   31      7  2015  2007-11-01 00:00:00  2010-03-29 00:00:00  \n",
       "2   31      7  2015  2006-12-01 00:00:00  2011-04-04 00:00:00  \n",
       "3   31      7  2015  2009-09-01 00:00:00                    0  \n",
       "4   31      7  2015  2015-04-01 00:00:00                    0  "
      ]
     },
     "execution_count": 3,
     "metadata": {},
     "output_type": "execute_result"
    }
   ],
   "source": [
    "df.head()"
   ]
  },
  {
   "cell_type": "code",
   "execution_count": 4,
   "metadata": {},
   "outputs": [
    {
     "name": "stdout",
     "output_type": "stream",
     "text": [
      "<class 'pandas.core.frame.DataFrame'>\n",
      "RangeIndex: 1017209 entries, 0 to 1017208\n",
      "Data columns (total 24 columns):\n",
      " #   Column                     Non-Null Count    Dtype         \n",
      "---  ------                     --------------    -----         \n",
      " 0   Store                      1017209 non-null  int64         \n",
      " 1   DayOfWeek                  1017209 non-null  int64         \n",
      " 2   Date                       1017209 non-null  datetime64[ns]\n",
      " 3   Sales                      1017209 non-null  int64         \n",
      " 4   Customers                  1017209 non-null  int64         \n",
      " 5   Open                       1017209 non-null  int64         \n",
      " 6   Promo                      1017209 non-null  int64         \n",
      " 7   StateHoliday               1017209 non-null  object        \n",
      " 8   SchoolHoliday              1017209 non-null  int64         \n",
      " 9   StoreType                  1017209 non-null  object        \n",
      " 10  Assortment                 1017209 non-null  object        \n",
      " 11  CompetitionDistance        1017209 non-null  float64       \n",
      " 12  CompetitionOpenSinceMonth  1017209 non-null  float64       \n",
      " 13  CompetitionOpenSinceYear   1017209 non-null  float64       \n",
      " 14  Promo2                     1017209 non-null  int64         \n",
      " 15  Promo2SinceWeek            1017209 non-null  float64       \n",
      " 16  Promo2SinceYear            1017209 non-null  float64       \n",
      " 17  PromoInterval              1017209 non-null  object        \n",
      " 18  Avg_Sales_Per_Customer     844340 non-null   float64       \n",
      " 19  Day                        1017209 non-null  int64         \n",
      " 20  Month                      1017209 non-null  int64         \n",
      " 21  Year                       1017209 non-null  int64         \n",
      " 22  CompetitionOpenSince       1017209 non-null  object        \n",
      " 23  Promo2Since                1017209 non-null  object        \n",
      "dtypes: datetime64[ns](1), float64(6), int64(11), object(6)\n",
      "memory usage: 186.3+ MB\n"
     ]
    }
   ],
   "source": [
    "# Affichage d'informations sur les données \n",
    "df.info()"
   ]
  },
  {
   "cell_type": "code",
   "execution_count": 5,
   "metadata": {
    "scrolled": true
   },
   "outputs": [
    {
     "name": "stdout",
     "output_type": "stream",
     "text": [
      "Data's shape :  (1017209, 24)\n"
     ]
    }
   ],
   "source": [
    "# Affichage de la taille du dataset (n_lignes et n_colonnes) \n",
    "print(\"Data's shape : \", df.shape)"
   ]
  },
  {
   "cell_type": "code",
   "execution_count": 6,
   "metadata": {},
   "outputs": [
    {
     "name": "stdout",
     "output_type": "stream",
     "text": [
      "Store                             0\n",
      "DayOfWeek                         0\n",
      "Date                              0\n",
      "Sales                             0\n",
      "Customers                         0\n",
      "Open                              0\n",
      "Promo                             0\n",
      "StateHoliday                      0\n",
      "SchoolHoliday                     0\n",
      "StoreType                         0\n",
      "Assortment                        0\n",
      "CompetitionDistance               0\n",
      "CompetitionOpenSinceMonth         0\n",
      "CompetitionOpenSinceYear          0\n",
      "Promo2                            0\n",
      "Promo2SinceWeek                   0\n",
      "Promo2SinceYear                   0\n",
      "PromoInterval                     0\n",
      "Avg_Sales_Per_Customer       172869\n",
      "Day                               0\n",
      "Month                             0\n",
      "Year                              0\n",
      "CompetitionOpenSince              0\n",
      "Promo2Since                       0\n",
      "dtype: int64\n"
     ]
    }
   ],
   "source": [
    "# La fonction housing.isna().sum() de Pandas est utilisée pour détecter et compter \n",
    "# les valeurs manquantes en fonction de la colonne \n",
    "missing = df.isna().sum() \n",
    "print(missing) "
   ]
  },
  {
   "cell_type": "code",
   "execution_count": 7,
   "metadata": {},
   "outputs": [
    {
     "name": "stdout",
     "output_type": "stream",
     "text": [
      "Avg_Sales_Per_Customer       172869\n",
      "Promo2Since                       0\n",
      "Assortment                        0\n",
      "DayOfWeek                         0\n",
      "Date                              0\n",
      "Sales                             0\n",
      "Customers                         0\n",
      "Open                              0\n",
      "Promo                             0\n",
      "StateHoliday                      0\n",
      "SchoolHoliday                     0\n",
      "StoreType                         0\n",
      "CompetitionDistance               0\n",
      "CompetitionOpenSince              0\n",
      "CompetitionOpenSinceMonth         0\n",
      "CompetitionOpenSinceYear          0\n",
      "Promo2                            0\n",
      "Promo2SinceWeek                   0\n",
      "Promo2SinceYear                   0\n",
      "PromoInterval                     0\n",
      "Day                               0\n",
      "Month                             0\n",
      "Year                              0\n",
      "Store                             0\n",
      "dtype: int64\n"
     ]
    }
   ],
   "source": [
    "# Autrement\n",
    "missing = df.isnull().sum().sort_values(ascending=False)\n",
    "print(missing)"
   ]
  },
  {
   "cell_type": "code",
   "execution_count": 8,
   "metadata": {},
   "outputs": [
    {
     "data": {
      "text/html": [
       "<div>\n",
       "<style scoped>\n",
       "    .dataframe tbody tr th:only-of-type {\n",
       "        vertical-align: middle;\n",
       "    }\n",
       "\n",
       "    .dataframe tbody tr th {\n",
       "        vertical-align: top;\n",
       "    }\n",
       "\n",
       "    .dataframe thead th {\n",
       "        text-align: right;\n",
       "    }\n",
       "</style>\n",
       "<table border=\"1\" class=\"dataframe\">\n",
       "  <thead>\n",
       "    <tr style=\"text-align: right;\">\n",
       "      <th></th>\n",
       "      <th>Store</th>\n",
       "      <th>DayOfWeek</th>\n",
       "      <th>Sales</th>\n",
       "      <th>Customers</th>\n",
       "      <th>Open</th>\n",
       "      <th>Promo</th>\n",
       "      <th>SchoolHoliday</th>\n",
       "      <th>CompetitionDistance</th>\n",
       "      <th>CompetitionOpenSinceMonth</th>\n",
       "      <th>CompetitionOpenSinceYear</th>\n",
       "      <th>Promo2</th>\n",
       "      <th>Promo2SinceWeek</th>\n",
       "      <th>Promo2SinceYear</th>\n",
       "      <th>Avg_Sales_Per_Customer</th>\n",
       "      <th>Day</th>\n",
       "      <th>Month</th>\n",
       "      <th>Year</th>\n",
       "    </tr>\n",
       "  </thead>\n",
       "  <tbody>\n",
       "    <tr>\n",
       "      <th>count</th>\n",
       "      <td>1,017,209.00</td>\n",
       "      <td>1,017,209.00</td>\n",
       "      <td>1,017,209.00</td>\n",
       "      <td>1,017,209.00</td>\n",
       "      <td>1,017,209.00</td>\n",
       "      <td>1,017,209.00</td>\n",
       "      <td>1,017,209.00</td>\n",
       "      <td>1,017,209.00</td>\n",
       "      <td>1,017,209.00</td>\n",
       "      <td>1,017,209.00</td>\n",
       "      <td>1,017,209.00</td>\n",
       "      <td>1,017,209.00</td>\n",
       "      <td>1,017,209.00</td>\n",
       "      <td>844,340.00</td>\n",
       "      <td>1,017,209.00</td>\n",
       "      <td>1,017,209.00</td>\n",
       "      <td>1,017,209.00</td>\n",
       "    </tr>\n",
       "    <tr>\n",
       "      <th>mean</th>\n",
       "      <td>558.43</td>\n",
       "      <td>4.00</td>\n",
       "      <td>5,773.82</td>\n",
       "      <td>633.15</td>\n",
       "      <td>0.83</td>\n",
       "      <td>0.38</td>\n",
       "      <td>0.18</td>\n",
       "      <td>5,422.02</td>\n",
       "      <td>4.93</td>\n",
       "      <td>1,370.17</td>\n",
       "      <td>0.50</td>\n",
       "      <td>11.65</td>\n",
       "      <td>1,007.01</td>\n",
       "      <td>9.49</td>\n",
       "      <td>15.70</td>\n",
       "      <td>5.85</td>\n",
       "      <td>2,013.83</td>\n",
       "    </tr>\n",
       "    <tr>\n",
       "      <th>std</th>\n",
       "      <td>321.91</td>\n",
       "      <td>2.00</td>\n",
       "      <td>3,849.93</td>\n",
       "      <td>464.41</td>\n",
       "      <td>0.38</td>\n",
       "      <td>0.49</td>\n",
       "      <td>0.38</td>\n",
       "      <td>7,706.92</td>\n",
       "      <td>4.28</td>\n",
       "      <td>935.36</td>\n",
       "      <td>0.50</td>\n",
       "      <td>15.32</td>\n",
       "      <td>1,005.88</td>\n",
       "      <td>2.20</td>\n",
       "      <td>8.79</td>\n",
       "      <td>3.33</td>\n",
       "      <td>0.78</td>\n",
       "    </tr>\n",
       "    <tr>\n",
       "      <th>min</th>\n",
       "      <td>1.00</td>\n",
       "      <td>1.00</td>\n",
       "      <td>0.00</td>\n",
       "      <td>0.00</td>\n",
       "      <td>0.00</td>\n",
       "      <td>0.00</td>\n",
       "      <td>0.00</td>\n",
       "      <td>20.00</td>\n",
       "      <td>0.00</td>\n",
       "      <td>0.00</td>\n",
       "      <td>0.00</td>\n",
       "      <td>0.00</td>\n",
       "      <td>0.00</td>\n",
       "      <td>0.00</td>\n",
       "      <td>1.00</td>\n",
       "      <td>1.00</td>\n",
       "      <td>2,013.00</td>\n",
       "    </tr>\n",
       "    <tr>\n",
       "      <th>25%</th>\n",
       "      <td>280.00</td>\n",
       "      <td>2.00</td>\n",
       "      <td>3,727.00</td>\n",
       "      <td>405.00</td>\n",
       "      <td>1.00</td>\n",
       "      <td>0.00</td>\n",
       "      <td>0.00</td>\n",
       "      <td>710.00</td>\n",
       "      <td>0.00</td>\n",
       "      <td>0.00</td>\n",
       "      <td>0.00</td>\n",
       "      <td>0.00</td>\n",
       "      <td>0.00</td>\n",
       "      <td>7.90</td>\n",
       "      <td>8.00</td>\n",
       "      <td>3.00</td>\n",
       "      <td>2,013.00</td>\n",
       "    </tr>\n",
       "    <tr>\n",
       "      <th>50%</th>\n",
       "      <td>558.00</td>\n",
       "      <td>4.00</td>\n",
       "      <td>5,744.00</td>\n",
       "      <td>609.00</td>\n",
       "      <td>1.00</td>\n",
       "      <td>0.00</td>\n",
       "      <td>0.00</td>\n",
       "      <td>2,325.00</td>\n",
       "      <td>4.00</td>\n",
       "      <td>2,006.00</td>\n",
       "      <td>1.00</td>\n",
       "      <td>1.00</td>\n",
       "      <td>2,009.00</td>\n",
       "      <td>9.25</td>\n",
       "      <td>16.00</td>\n",
       "      <td>6.00</td>\n",
       "      <td>2,014.00</td>\n",
       "    </tr>\n",
       "    <tr>\n",
       "      <th>75%</th>\n",
       "      <td>838.00</td>\n",
       "      <td>6.00</td>\n",
       "      <td>7,856.00</td>\n",
       "      <td>837.00</td>\n",
       "      <td>1.00</td>\n",
       "      <td>1.00</td>\n",
       "      <td>0.00</td>\n",
       "      <td>6,880.00</td>\n",
       "      <td>9.00</td>\n",
       "      <td>2,011.00</td>\n",
       "      <td>1.00</td>\n",
       "      <td>22.00</td>\n",
       "      <td>2,012.00</td>\n",
       "      <td>10.90</td>\n",
       "      <td>23.00</td>\n",
       "      <td>8.00</td>\n",
       "      <td>2,014.00</td>\n",
       "    </tr>\n",
       "    <tr>\n",
       "      <th>max</th>\n",
       "      <td>1,115.00</td>\n",
       "      <td>7.00</td>\n",
       "      <td>41,551.00</td>\n",
       "      <td>7,388.00</td>\n",
       "      <td>1.00</td>\n",
       "      <td>1.00</td>\n",
       "      <td>1.00</td>\n",
       "      <td>75,860.00</td>\n",
       "      <td>12.00</td>\n",
       "      <td>2,015.00</td>\n",
       "      <td>1.00</td>\n",
       "      <td>50.00</td>\n",
       "      <td>2,015.00</td>\n",
       "      <td>64.96</td>\n",
       "      <td>31.00</td>\n",
       "      <td>12.00</td>\n",
       "      <td>2,015.00</td>\n",
       "    </tr>\n",
       "  </tbody>\n",
       "</table>\n",
       "</div>"
      ],
      "text/plain": [
       "             Store    DayOfWeek        Sales    Customers         Open  \\\n",
       "count 1,017,209.00 1,017,209.00 1,017,209.00 1,017,209.00 1,017,209.00   \n",
       "mean        558.43         4.00     5,773.82       633.15         0.83   \n",
       "std         321.91         2.00     3,849.93       464.41         0.38   \n",
       "min           1.00         1.00         0.00         0.00         0.00   \n",
       "25%         280.00         2.00     3,727.00       405.00         1.00   \n",
       "50%         558.00         4.00     5,744.00       609.00         1.00   \n",
       "75%         838.00         6.00     7,856.00       837.00         1.00   \n",
       "max       1,115.00         7.00    41,551.00     7,388.00         1.00   \n",
       "\n",
       "             Promo  SchoolHoliday  CompetitionDistance  \\\n",
       "count 1,017,209.00   1,017,209.00         1,017,209.00   \n",
       "mean          0.38           0.18             5,422.02   \n",
       "std           0.49           0.38             7,706.92   \n",
       "min           0.00           0.00                20.00   \n",
       "25%           0.00           0.00               710.00   \n",
       "50%           0.00           0.00             2,325.00   \n",
       "75%           1.00           0.00             6,880.00   \n",
       "max           1.00           1.00            75,860.00   \n",
       "\n",
       "       CompetitionOpenSinceMonth  CompetitionOpenSinceYear       Promo2  \\\n",
       "count               1,017,209.00              1,017,209.00 1,017,209.00   \n",
       "mean                        4.93                  1,370.17         0.50   \n",
       "std                         4.28                    935.36         0.50   \n",
       "min                         0.00                      0.00         0.00   \n",
       "25%                         0.00                      0.00         0.00   \n",
       "50%                         4.00                  2,006.00         1.00   \n",
       "75%                         9.00                  2,011.00         1.00   \n",
       "max                        12.00                  2,015.00         1.00   \n",
       "\n",
       "       Promo2SinceWeek  Promo2SinceYear  Avg_Sales_Per_Customer          Day  \\\n",
       "count     1,017,209.00     1,017,209.00              844,340.00 1,017,209.00   \n",
       "mean             11.65         1,007.01                    9.49        15.70   \n",
       "std              15.32         1,005.88                    2.20         8.79   \n",
       "min               0.00             0.00                    0.00         1.00   \n",
       "25%               0.00             0.00                    7.90         8.00   \n",
       "50%               1.00         2,009.00                    9.25        16.00   \n",
       "75%              22.00         2,012.00                   10.90        23.00   \n",
       "max              50.00         2,015.00                   64.96        31.00   \n",
       "\n",
       "             Month         Year  \n",
       "count 1,017,209.00 1,017,209.00  \n",
       "mean          5.85     2,013.83  \n",
       "std           3.33         0.78  \n",
       "min           1.00     2,013.00  \n",
       "25%           3.00     2,013.00  \n",
       "50%           6.00     2,014.00  \n",
       "75%           8.00     2,014.00  \n",
       "max          12.00     2,015.00  "
      ]
     },
     "execution_count": 8,
     "metadata": {},
     "output_type": "execute_result"
    }
   ],
   "source": [
    "# Affichage d'informations statistiques sur les données \n",
    "# La méthode describe() ignore les valeurs NULL \n",
    "df.describe()"
   ]
  },
  {
   "cell_type": "code",
   "execution_count": 9,
   "metadata": {
    "code_folding": [
     1
    ],
    "hidden": true
   },
   "outputs": [],
   "source": [
    "## Quelques fonctions utiles implémentées précédemment\n",
    "def show_distribution(df, var, n_bins=50, stat=\"count\"):\n",
    "    \"\"\"\n",
    "    Args:\n",
    "        df : data frame\n",
    "        var : nom de la colonne de df, pour laquelle on souhaite afficher les graphes de distribution\n",
    "        n_bins : nombre de bins (barres verticales) dans l'histogramme\n",
    "        stat : \"frequency\", \"count\", \"density\", or \"probability\", pour l'histogramme\n",
    "    Return:\n",
    "        None\n",
    "    \"\"\"\n",
    "    ## Calcul de statistiques pour les afficher sur l'histogramme en barres verticales\n",
    "    mean_val = df[var].mean()\n",
    "    med_val = df[var].median()\n",
    "    mode_val = df[var].mode()[0]     ## La valeur la plus fréquente\n",
    "    max_val = df[var].max()\n",
    "\n",
    "    # Une figure pour 2 subplots : 2 ligne, 1 colonne. Subplot 1 sera un histogramme, subplot 2 un box plot\n",
    "    fig, ax = plt.subplots(2, 1, figsize = (15,10))\n",
    "\n",
    "    # Plot histogram   \n",
    "    sns.histplot(\n",
    "        data = df,\n",
    "        x=var, \n",
    "        bins=n_bins,\n",
    "        stat = stat,\n",
    "        ax = ax[0]\n",
    "    )\n",
    "\n",
    "    # Ajouter des lignes verticales pour la moyenne, la mediane, mode, et la valeur max\n",
    "    ax[0].axvline(x=mean_val, color = 'green', linestyle='dashed', linewidth = 2)\n",
    "    ax[0].axvline(x=med_val, color = 'red', linestyle='dashed', linewidth = 2)\n",
    "    ax[0].axvline(x=mode_val, color = 'gray', linestyle='dashed', linewidth = 2)\n",
    "    ax[0].axvline(x=max_val, color = 'black', linestyle='dashed', linewidth = 2)\n",
    "\n",
    "    # boxplot   \n",
    "    sns.boxplot(\n",
    "        x=df[var], \n",
    "        ax= ax[1]\n",
    "    )\n",
    "    ax[1].set_xlabel(var + 'Value')\n",
    "\n",
    "    # Ajouter un titre\n",
    "    fig.suptitle('Distribution de la variable ' + var)\n",
    "\n",
    "    # Show the figure\n",
    "    fig.show()"
   ]
  },
  {
   "cell_type": "code",
   "execution_count": 10,
   "metadata": {},
   "outputs": [
    {
     "data": {
      "image/png": "[encoded data removed]",
      "text/plain": [
       "<Figure size 1080x720 with 2 Axes>"
      ]
     },
     "metadata": {},
     "output_type": "display_data"
    }
   ],
   "source": [
    "# Visualisation des distributions des variables numériques \n",
    "show_distribution(df, 'Sales')"
   ]
  },
  {
   "cell_type": "code",
   "execution_count": 11,
   "metadata": {},
   "outputs": [
    {
     "data": {
      "image/png": "[encoded data removed]",
      "text/plain": [
       "<Figure size 1080x720 with 2 Axes>"
      ]
     },
     "metadata": {},
     "output_type": "display_data"
    }
   ],
   "source": [
    "# Visualisation des distributions des variables numériques \n",
    "show_distribution(df, 'Customers')"
   ]
  },
  {
   "cell_type": "markdown",
   "metadata": {
    "heading_collapsed": true
   },
   "source": [
    "# 1. Suite - transformation du jeu de données"
   ]
  },
  {
   "cell_type": "markdown",
   "metadata": {
    "heading_collapsed": true,
    "hidden": true
   },
   "source": [
    "## 1.1 Transformations des variables"
   ]
  },
  {
   "cell_type": "code",
   "execution_count": 12,
   "metadata": {
    "hidden": true
   },
   "outputs": [],
   "source": [
    "# Pour garder une copie de df si on veut refaire des traitements différents\n",
    "data = df.copy()"
   ]
  },
  {
   "cell_type": "markdown",
   "metadata": {
    "hidden": true
   },
   "source": [
    "<h5>Création de nouvelles variables continues à partir des différentes dates si cela peut être pertinent </h5>"
   ]
  },
  {
   "cell_type": "code",
   "execution_count": 13,
   "metadata": {
    "hidden": true
   },
   "outputs": [],
   "source": [
    "# Nombre de jours/mois depuis la participation à Promo2\n",
    "# Transformer la colonne Promo2Since en datetime \n",
    "# Pour les erreurs (cas Promo2Since = 0), les ignorer => Cela va créer des valeurs NaN, à traiter !\n",
    "data[\"Promo2Since\"] = pd.to_datetime(data[\"Promo2Since\"], errors='coerce')"
   ]
  },
  {
   "cell_type": "code",
   "execution_count": 14,
   "metadata": {
    "hidden": true
   },
   "outputs": [],
   "source": [
    "# La différence en jours, (peut créer des NaN)\n",
    "data[\"DaysSincePromo2\"] = (data[\"Date\"] - data[\"Promo2Since\"]).dt.days"
   ]
  },
  {
   "cell_type": "code",
   "execution_count": 15,
   "metadata": {
    "hidden": true
   },
   "outputs": [],
   "source": [
    "# La différence en mois, (peut créer des NaN)\n",
    "data[\"MonthsSincePromo2\"] = (data[\"Date\"] - data[\"Promo2Since\"])/np.timedelta64(1, 'M')"
   ]
  },
  {
   "cell_type": "code",
   "execution_count": 16,
   "metadata": {
    "hidden": true
   },
   "outputs": [],
   "source": [
    "# Remplacer les NaN dans ces deux nouvelles colonnes\n",
    "data['DaysSincePromo2'].fillna('0', inplace=True)\n",
    "data['MonthsSincePromo2'].fillna('0', inplace=True)"
   ]
  },
  {
   "cell_type": "code",
   "execution_count": 17,
   "metadata": {
    "hidden": true
   },
   "outputs": [],
   "source": [
    "# Nombre de jours/mois depuis l'ouverture de la compétition\n",
    "data[\"CompetitionOpenSince\"] = pd.to_datetime(data[\"CompetitionOpenSince\"], errors='coerce')\n",
    "# La différence en jours, (peut créer des NaN)\n",
    "data[\"DaysSinceCompetition\"] = (data[\"Date\"] - data[\"CompetitionOpenSince\"]).dt.days\n",
    "# La différence en mois, (peut créer des NaN)\n",
    "data[\"MonthsSinceCompetition\"] = (data[\"Date\"] - data[\"CompetitionOpenSince\"])/np.timedelta64(1, 'M')"
   ]
  },
  {
   "cell_type": "code",
   "execution_count": 18,
   "metadata": {},
   "outputs": [],
   "source": [
    "## Remplacer les NaN dans ces deux nouvelles colonnes\n",
    "data['DaysSinceCompetition'].fillna('0', inplace=True)\n",
    "data['MonthsSinceCompetition'].fillna('0', inplace=True)"
   ]
  },
  {
   "cell_type": "code",
   "execution_count": 19,
   "metadata": {},
   "outputs": [],
   "source": [
    "data['DaysSincePromo2'] = pd.to_numeric(data['DaysSincePromo2'])\n",
    "data['MonthsSincePromo2'] = pd.to_numeric(data['MonthsSincePromo2'])\n",
    "data['DaysSinceCompetition'] = pd.to_numeric(data['DaysSinceCompetition'])\n",
    "data['MonthsSinceCompetition'] = pd.to_numeric(data['MonthsSinceCompetition'])"
   ]
  },
  {
   "cell_type": "code",
   "execution_count": 20,
   "metadata": {},
   "outputs": [
    {
     "name": "stdout",
     "output_type": "stream",
     "text": [
      "<class 'pandas.core.frame.DataFrame'>\n",
      "RangeIndex: 1017209 entries, 0 to 1017208\n",
      "Data columns (total 28 columns):\n",
      " #   Column                     Non-Null Count    Dtype         \n",
      "---  ------                     --------------    -----         \n",
      " 0   Store                      1017209 non-null  int64         \n",
      " 1   DayOfWeek                  1017209 non-null  int64         \n",
      " 2   Date                       1017209 non-null  datetime64[ns]\n",
      " 3   Sales                      1017209 non-null  int64         \n",
      " 4   Customers                  1017209 non-null  int64         \n",
      " 5   Open                       1017209 non-null  int64         \n",
      " 6   Promo                      1017209 non-null  int64         \n",
      " 7   StateHoliday               1017209 non-null  object        \n",
      " 8   SchoolHoliday              1017209 non-null  int64         \n",
      " 9   StoreType                  1017209 non-null  object        \n",
      " 10  Assortment                 1017209 non-null  object        \n",
      " 11  CompetitionDistance        1017209 non-null  float64       \n",
      " 12  CompetitionOpenSinceMonth  1017209 non-null  float64       \n",
      " 13  CompetitionOpenSinceYear   1017209 non-null  float64       \n",
      " 14  Promo2                     1017209 non-null  int64         \n",
      " 15  Promo2SinceWeek            1017209 non-null  float64       \n",
      " 16  Promo2SinceYear            1017209 non-null  float64       \n",
      " 17  PromoInterval              1017209 non-null  object        \n",
      " 18  Avg_Sales_Per_Customer     844340 non-null   float64       \n",
      " 19  Day                        1017209 non-null  int64         \n",
      " 20  Month                      1017209 non-null  int64         \n",
      " 21  Year                       1017209 non-null  int64         \n",
      " 22  CompetitionOpenSince       693861 non-null   datetime64[ns]\n",
      " 23  Promo2Since                509178 non-null   datetime64[ns]\n",
      " 24  DaysSincePromo2            1017209 non-null  float64       \n",
      " 25  MonthsSincePromo2          1017209 non-null  float64       \n",
      " 26  DaysSinceCompetition       1017209 non-null  float64       \n",
      " 27  MonthsSinceCompetition     1017209 non-null  float64       \n",
      "dtypes: datetime64[ns](3), float64(10), int64(11), object(4)\n",
      "memory usage: 217.3+ MB\n"
     ]
    }
   ],
   "source": [
    "data.info()"
   ]
  },
  {
   "cell_type": "markdown",
   "metadata": {
    "hidden": true
   },
   "source": [
    "<h5>One hot encoding des variables catégorielles (ou autres encoding)</h5>"
   ]
  },
  {
   "cell_type": "code",
   "execution_count": 21,
   "metadata": {},
   "outputs": [],
   "source": [
    "data[\"StateHoliday\"] = data[\"StateHoliday\"].replace({0 : '0'})"
   ]
  },
  {
   "cell_type": "code",
   "execution_count": 22,
   "metadata": {},
   "outputs": [
    {
     "name": "stdout",
     "output_type": "stream",
     "text": [
      "Index(['Store', 'DayOfWeek', 'Sales', 'Customers', 'Open', 'Promo',\n",
      "       'SchoolHoliday', 'CompetitionDistance', 'CompetitionOpenSinceMonth',\n",
      "       'CompetitionOpenSinceYear', 'Promo2', 'Promo2SinceWeek',\n",
      "       'Promo2SinceYear', 'Avg_Sales_Per_Customer', 'Day', 'Month', 'Year',\n",
      "       'DaysSincePromo2', 'MonthsSincePromo2', 'DaysSinceCompetition',\n",
      "       'MonthsSinceCompetition'],\n",
      "      dtype='object')\n"
     ]
    }
   ],
   "source": [
    "# Afficher les variables numériques\n",
    "numerical_features = data.select_dtypes(include=[np.number]).columns \n",
    "print(numerical_features)"
   ]
  },
  {
   "cell_type": "code",
   "execution_count": 23,
   "metadata": {},
   "outputs": [
    {
     "name": "stdout",
     "output_type": "stream",
     "text": [
      "Index(['StateHoliday', 'StoreType', 'Assortment', 'PromoInterval'], dtype='object')\n"
     ]
    }
   ],
   "source": [
    "# Afficher les variables catégorielles\n",
    "categorical_features = data.select_dtypes(include=[np.object]).columns \n",
    "print(categorical_features)"
   ]
  },
  {
   "cell_type": "code",
   "execution_count": 24,
   "metadata": {},
   "outputs": [],
   "source": [
    "# Une grande partie du prétraitement est le codage \n",
    "# On doit représenter chaque élément de données d'une manière compréhensible par l'ordinateur => convertir en langage machine\n",
    "# Dans de nombreuses branches de l'informatique, en particulier l'apprentissage automatique, \n",
    "# One hot encoding est largement utilisé\n",
    "data = pd.get_dummies(data, columns=['StateHoliday', 'StoreType', 'Assortment', 'PromoInterval'])"
   ]
  },
  {
   "cell_type": "code",
   "execution_count": 25,
   "metadata": {},
   "outputs": [
    {
     "data": {
      "text/html": [
       "<div>\n",
       "<style scoped>\n",
       "    .dataframe tbody tr th:only-of-type {\n",
       "        vertical-align: middle;\n",
       "    }\n",
       "\n",
       "    .dataframe tbody tr th {\n",
       "        vertical-align: top;\n",
       "    }\n",
       "\n",
       "    .dataframe thead th {\n",
       "        text-align: right;\n",
       "    }\n",
       "</style>\n",
       "<table border=\"1\" class=\"dataframe\">\n",
       "  <thead>\n",
       "    <tr style=\"text-align: right;\">\n",
       "      <th></th>\n",
       "      <th>Store</th>\n",
       "      <th>DayOfWeek</th>\n",
       "      <th>Date</th>\n",
       "      <th>Sales</th>\n",
       "      <th>Customers</th>\n",
       "      <th>Open</th>\n",
       "      <th>Promo</th>\n",
       "      <th>SchoolHoliday</th>\n",
       "      <th>CompetitionDistance</th>\n",
       "      <th>CompetitionOpenSinceMonth</th>\n",
       "      <th>CompetitionOpenSinceYear</th>\n",
       "      <th>Promo2</th>\n",
       "      <th>Promo2SinceWeek</th>\n",
       "      <th>Promo2SinceYear</th>\n",
       "      <th>Avg_Sales_Per_Customer</th>\n",
       "      <th>Day</th>\n",
       "      <th>Month</th>\n",
       "      <th>Year</th>\n",
       "      <th>CompetitionOpenSince</th>\n",
       "      <th>Promo2Since</th>\n",
       "      <th>DaysSincePromo2</th>\n",
       "      <th>MonthsSincePromo2</th>\n",
       "      <th>DaysSinceCompetition</th>\n",
       "      <th>MonthsSinceCompetition</th>\n",
       "      <th>StateHoliday_0</th>\n",
       "      <th>StateHoliday_a</th>\n",
       "      <th>StateHoliday_b</th>\n",
       "      <th>StateHoliday_c</th>\n",
       "      <th>StoreType_a</th>\n",
       "      <th>StoreType_b</th>\n",
       "      <th>StoreType_c</th>\n",
       "      <th>StoreType_d</th>\n",
       "      <th>Assortment_a</th>\n",
       "      <th>Assortment_b</th>\n",
       "      <th>Assortment_c</th>\n",
       "      <th>PromoInterval_0</th>\n",
       "      <th>PromoInterval_Feb,May,Aug,Nov</th>\n",
       "      <th>PromoInterval_Jan,Apr,Jul,Oct</th>\n",
       "      <th>PromoInterval_Mar,Jun,Sept,Dec</th>\n",
       "    </tr>\n",
       "  </thead>\n",
       "  <tbody>\n",
       "    <tr>\n",
       "      <th>0</th>\n",
       "      <td>1</td>\n",
       "      <td>5</td>\n",
       "      <td>2015-07-31</td>\n",
       "      <td>5263</td>\n",
       "      <td>555</td>\n",
       "      <td>1</td>\n",
       "      <td>1</td>\n",
       "      <td>1</td>\n",
       "      <td>1,270.00</td>\n",
       "      <td>9.00</td>\n",
       "      <td>2,008.00</td>\n",
       "      <td>0</td>\n",
       "      <td>0.00</td>\n",
       "      <td>0.00</td>\n",
       "      <td>9.48</td>\n",
       "      <td>31</td>\n",
       "      <td>7</td>\n",
       "      <td>2015</td>\n",
       "      <td>2008-09-01</td>\n",
       "      <td>NaT</td>\n",
       "      <td>0.00</td>\n",
       "      <td>0.00</td>\n",
       "      <td>2,524.00</td>\n",
       "      <td>82.93</td>\n",
       "      <td>1</td>\n",
       "      <td>0</td>\n",
       "      <td>0</td>\n",
       "      <td>0</td>\n",
       "      <td>0</td>\n",
       "      <td>0</td>\n",
       "      <td>1</td>\n",
       "      <td>0</td>\n",
       "      <td>1</td>\n",
       "      <td>0</td>\n",
       "      <td>0</td>\n",
       "      <td>1</td>\n",
       "      <td>0</td>\n",
       "      <td>0</td>\n",
       "      <td>0</td>\n",
       "    </tr>\n",
       "    <tr>\n",
       "      <th>1</th>\n",
       "      <td>2</td>\n",
       "      <td>5</td>\n",
       "      <td>2015-07-31</td>\n",
       "      <td>6064</td>\n",
       "      <td>625</td>\n",
       "      <td>1</td>\n",
       "      <td>1</td>\n",
       "      <td>1</td>\n",
       "      <td>570.00</td>\n",
       "      <td>11.00</td>\n",
       "      <td>2,007.00</td>\n",
       "      <td>1</td>\n",
       "      <td>13.00</td>\n",
       "      <td>2,010.00</td>\n",
       "      <td>9.70</td>\n",
       "      <td>31</td>\n",
       "      <td>7</td>\n",
       "      <td>2015</td>\n",
       "      <td>2007-11-01</td>\n",
       "      <td>2010-03-29</td>\n",
       "      <td>1,950.00</td>\n",
       "      <td>64.07</td>\n",
       "      <td>2,829.00</td>\n",
       "      <td>92.95</td>\n",
       "      <td>1</td>\n",
       "      <td>0</td>\n",
       "      <td>0</td>\n",
       "      <td>0</td>\n",
       "      <td>1</td>\n",
       "      <td>0</td>\n",
       "      <td>0</td>\n",
       "      <td>0</td>\n",
       "      <td>1</td>\n",
       "      <td>0</td>\n",
       "      <td>0</td>\n",
       "      <td>0</td>\n",
       "      <td>0</td>\n",
       "      <td>1</td>\n",
       "      <td>0</td>\n",
       "    </tr>\n",
       "    <tr>\n",
       "      <th>2</th>\n",
       "      <td>3</td>\n",
       "      <td>5</td>\n",
       "      <td>2015-07-31</td>\n",
       "      <td>8314</td>\n",
       "      <td>821</td>\n",
       "      <td>1</td>\n",
       "      <td>1</td>\n",
       "      <td>1</td>\n",
       "      <td>14,130.00</td>\n",
       "      <td>12.00</td>\n",
       "      <td>2,006.00</td>\n",
       "      <td>1</td>\n",
       "      <td>14.00</td>\n",
       "      <td>2,011.00</td>\n",
       "      <td>10.13</td>\n",
       "      <td>31</td>\n",
       "      <td>7</td>\n",
       "      <td>2015</td>\n",
       "      <td>2006-12-01</td>\n",
       "      <td>2011-04-04</td>\n",
       "      <td>1,579.00</td>\n",
       "      <td>51.88</td>\n",
       "      <td>3,164.00</td>\n",
       "      <td>103.95</td>\n",
       "      <td>1</td>\n",
       "      <td>0</td>\n",
       "      <td>0</td>\n",
       "      <td>0</td>\n",
       "      <td>1</td>\n",
       "      <td>0</td>\n",
       "      <td>0</td>\n",
       "      <td>0</td>\n",
       "      <td>1</td>\n",
       "      <td>0</td>\n",
       "      <td>0</td>\n",
       "      <td>0</td>\n",
       "      <td>0</td>\n",
       "      <td>1</td>\n",
       "      <td>0</td>\n",
       "    </tr>\n",
       "    <tr>\n",
       "      <th>3</th>\n",
       "      <td>4</td>\n",
       "      <td>5</td>\n",
       "      <td>2015-07-31</td>\n",
       "      <td>13995</td>\n",
       "      <td>1498</td>\n",
       "      <td>1</td>\n",
       "      <td>1</td>\n",
       "      <td>1</td>\n",
       "      <td>620.00</td>\n",
       "      <td>9.00</td>\n",
       "      <td>2,009.00</td>\n",
       "      <td>0</td>\n",
       "      <td>0.00</td>\n",
       "      <td>0.00</td>\n",
       "      <td>9.34</td>\n",
       "      <td>31</td>\n",
       "      <td>7</td>\n",
       "      <td>2015</td>\n",
       "      <td>2009-09-01</td>\n",
       "      <td>NaT</td>\n",
       "      <td>0.00</td>\n",
       "      <td>0.00</td>\n",
       "      <td>2,159.00</td>\n",
       "      <td>70.93</td>\n",
       "      <td>1</td>\n",
       "      <td>0</td>\n",
       "      <td>0</td>\n",
       "      <td>0</td>\n",
       "      <td>0</td>\n",
       "      <td>0</td>\n",
       "      <td>1</td>\n",
       "      <td>0</td>\n",
       "      <td>0</td>\n",
       "      <td>0</td>\n",
       "      <td>1</td>\n",
       "      <td>1</td>\n",
       "      <td>0</td>\n",
       "      <td>0</td>\n",
       "      <td>0</td>\n",
       "    </tr>\n",
       "    <tr>\n",
       "      <th>4</th>\n",
       "      <td>5</td>\n",
       "      <td>5</td>\n",
       "      <td>2015-07-31</td>\n",
       "      <td>4822</td>\n",
       "      <td>559</td>\n",
       "      <td>1</td>\n",
       "      <td>1</td>\n",
       "      <td>1</td>\n",
       "      <td>29,910.00</td>\n",
       "      <td>4.00</td>\n",
       "      <td>2,015.00</td>\n",
       "      <td>0</td>\n",
       "      <td>0.00</td>\n",
       "      <td>0.00</td>\n",
       "      <td>8.63</td>\n",
       "      <td>31</td>\n",
       "      <td>7</td>\n",
       "      <td>2015</td>\n",
       "      <td>2015-04-01</td>\n",
       "      <td>NaT</td>\n",
       "      <td>0.00</td>\n",
       "      <td>0.00</td>\n",
       "      <td>121.00</td>\n",
       "      <td>3.98</td>\n",
       "      <td>1</td>\n",
       "      <td>0</td>\n",
       "      <td>0</td>\n",
       "      <td>0</td>\n",
       "      <td>1</td>\n",
       "      <td>0</td>\n",
       "      <td>0</td>\n",
       "      <td>0</td>\n",
       "      <td>1</td>\n",
       "      <td>0</td>\n",
       "      <td>0</td>\n",
       "      <td>1</td>\n",
       "      <td>0</td>\n",
       "      <td>0</td>\n",
       "      <td>0</td>\n",
       "    </tr>\n",
       "  </tbody>\n",
       "</table>\n",
       "</div>"
      ],
      "text/plain": [
       "   Store  DayOfWeek       Date  Sales  Customers  Open  Promo  SchoolHoliday  \\\n",
       "0      1          5 2015-07-31   5263        555     1      1              1   \n",
       "1      2          5 2015-07-31   6064        625     1      1              1   \n",
       "2      3          5 2015-07-31   8314        821     1      1              1   \n",
       "3      4          5 2015-07-31  13995       1498     1      1              1   \n",
       "4      5          5 2015-07-31   4822        559     1      1              1   \n",
       "\n",
       "   CompetitionDistance  CompetitionOpenSinceMonth  CompetitionOpenSinceYear  \\\n",
       "0             1,270.00                       9.00                  2,008.00   \n",
       "1               570.00                      11.00                  2,007.00   \n",
       "2            14,130.00                      12.00                  2,006.00   \n",
       "3               620.00                       9.00                  2,009.00   \n",
       "4            29,910.00                       4.00                  2,015.00   \n",
       "\n",
       "   Promo2  Promo2SinceWeek  Promo2SinceYear  Avg_Sales_Per_Customer  Day  \\\n",
       "0       0             0.00             0.00                    9.48   31   \n",
       "1       1            13.00         2,010.00                    9.70   31   \n",
       "2       1            14.00         2,011.00                   10.13   31   \n",
       "3       0             0.00             0.00                    9.34   31   \n",
       "4       0             0.00             0.00                    8.63   31   \n",
       "\n",
       "   Month  Year CompetitionOpenSince Promo2Since  DaysSincePromo2  \\\n",
       "0      7  2015           2008-09-01         NaT             0.00   \n",
       "1      7  2015           2007-11-01  2010-03-29         1,950.00   \n",
       "2      7  2015           2006-12-01  2011-04-04         1,579.00   \n",
       "3      7  2015           2009-09-01         NaT             0.00   \n",
       "4      7  2015           2015-04-01         NaT             0.00   \n",
       "\n",
       "   MonthsSincePromo2  DaysSinceCompetition  MonthsSinceCompetition  \\\n",
       "0               0.00              2,524.00                   82.93   \n",
       "1              64.07              2,829.00                   92.95   \n",
       "2              51.88              3,164.00                  103.95   \n",
       "3               0.00              2,159.00                   70.93   \n",
       "4               0.00                121.00                    3.98   \n",
       "\n",
       "   StateHoliday_0  StateHoliday_a  StateHoliday_b  StateHoliday_c  \\\n",
       "0               1               0               0               0   \n",
       "1               1               0               0               0   \n",
       "2               1               0               0               0   \n",
       "3               1               0               0               0   \n",
       "4               1               0               0               0   \n",
       "\n",
       "   StoreType_a  StoreType_b  StoreType_c  StoreType_d  Assortment_a  \\\n",
       "0            0            0            1            0             1   \n",
       "1            1            0            0            0             1   \n",
       "2            1            0            0            0             1   \n",
       "3            0            0            1            0             0   \n",
       "4            1            0            0            0             1   \n",
       "\n",
       "   Assortment_b  Assortment_c  PromoInterval_0  PromoInterval_Feb,May,Aug,Nov  \\\n",
       "0             0             0                1                              0   \n",
       "1             0             0                0                              0   \n",
       "2             0             0                0                              0   \n",
       "3             0             1                1                              0   \n",
       "4             0             0                1                              0   \n",
       "\n",
       "   PromoInterval_Jan,Apr,Jul,Oct  PromoInterval_Mar,Jun,Sept,Dec  \n",
       "0                              0                               0  \n",
       "1                              1                               0  \n",
       "2                              1                               0  \n",
       "3                              0                               0  \n",
       "4                              0                               0  "
      ]
     },
     "execution_count": 25,
     "metadata": {},
     "output_type": "execute_result"
    }
   ],
   "source": [
    "data.head()"
   ]
  },
  {
   "cell_type": "markdown",
   "metadata": {
    "hidden": true
   },
   "source": [
    "<h5>D'autres variables à créer ou à transformer (log transform, ...) ?</h5>"
   ]
  },
  {
   "cell_type": "code",
   "execution_count": null,
   "metadata": {
    "hidden": true
   },
   "outputs": [],
   "source": []
  },
  {
   "cell_type": "markdown",
   "metadata": {
    "hidden": true
   },
   "source": [
    "<h5>Filtres sur le jeu de données (éliminer les jours de fermeture, les jours avec ventes nulles, ...)</h5>"
   ]
  },
  {
   "cell_type": "code",
   "execution_count": 26,
   "metadata": {
    "hidden": true
   },
   "outputs": [],
   "source": [
    "data = data[(data[\"Open\"]==1) & (data[\"Sales\"]>0)]\n",
    "## Rajoutez d'autres filtres si cela vous semble pertinent"
   ]
  },
  {
   "cell_type": "markdown",
   "metadata": {
    "hidden": true
   },
   "source": [
    "<h5>Garder que les colonnes utiles</h5>"
   ]
  },
  {
   "cell_type": "code",
   "execution_count": 27,
   "metadata": {
    "hidden": true
   },
   "outputs": [
    {
     "data": {
      "text/html": [
       "<div>\n",
       "<style scoped>\n",
       "    .dataframe tbody tr th:only-of-type {\n",
       "        vertical-align: middle;\n",
       "    }\n",
       "\n",
       "    .dataframe tbody tr th {\n",
       "        vertical-align: top;\n",
       "    }\n",
       "\n",
       "    .dataframe thead th {\n",
       "        text-align: right;\n",
       "    }\n",
       "</style>\n",
       "<table border=\"1\" class=\"dataframe\">\n",
       "  <thead>\n",
       "    <tr style=\"text-align: right;\">\n",
       "      <th></th>\n",
       "      <th>Store</th>\n",
       "      <th>DayOfWeek</th>\n",
       "      <th>Date</th>\n",
       "      <th>Sales</th>\n",
       "      <th>Promo</th>\n",
       "      <th>SchoolHoliday</th>\n",
       "      <th>CompetitionDistance</th>\n",
       "      <th>CompetitionOpenSinceMonth</th>\n",
       "      <th>CompetitionOpenSinceYear</th>\n",
       "      <th>Promo2</th>\n",
       "      <th>Promo2SinceWeek</th>\n",
       "      <th>Promo2SinceYear</th>\n",
       "      <th>Avg_Sales_Per_Customer</th>\n",
       "      <th>Day</th>\n",
       "      <th>Month</th>\n",
       "      <th>Year</th>\n",
       "      <th>DaysSincePromo2</th>\n",
       "      <th>MonthsSincePromo2</th>\n",
       "      <th>DaysSinceCompetition</th>\n",
       "      <th>MonthsSinceCompetition</th>\n",
       "      <th>StateHoliday_0</th>\n",
       "      <th>StateHoliday_a</th>\n",
       "      <th>StateHoliday_b</th>\n",
       "      <th>StateHoliday_c</th>\n",
       "      <th>StoreType_a</th>\n",
       "      <th>StoreType_b</th>\n",
       "      <th>StoreType_c</th>\n",
       "      <th>StoreType_d</th>\n",
       "      <th>Assortment_a</th>\n",
       "      <th>Assortment_b</th>\n",
       "      <th>Assortment_c</th>\n",
       "      <th>PromoInterval_0</th>\n",
       "      <th>PromoInterval_Feb,May,Aug,Nov</th>\n",
       "      <th>PromoInterval_Jan,Apr,Jul,Oct</th>\n",
       "      <th>PromoInterval_Mar,Jun,Sept,Dec</th>\n",
       "    </tr>\n",
       "  </thead>\n",
       "  <tbody>\n",
       "    <tr>\n",
       "      <th>0</th>\n",
       "      <td>1</td>\n",
       "      <td>5</td>\n",
       "      <td>2015-07-31</td>\n",
       "      <td>5263</td>\n",
       "      <td>1</td>\n",
       "      <td>1</td>\n",
       "      <td>1,270.00</td>\n",
       "      <td>9.00</td>\n",
       "      <td>2,008.00</td>\n",
       "      <td>0</td>\n",
       "      <td>0.00</td>\n",
       "      <td>0.00</td>\n",
       "      <td>9.48</td>\n",
       "      <td>31</td>\n",
       "      <td>7</td>\n",
       "      <td>2015</td>\n",
       "      <td>0.00</td>\n",
       "      <td>0.00</td>\n",
       "      <td>2,524.00</td>\n",
       "      <td>82.93</td>\n",
       "      <td>1</td>\n",
       "      <td>0</td>\n",
       "      <td>0</td>\n",
       "      <td>0</td>\n",
       "      <td>0</td>\n",
       "      <td>0</td>\n",
       "      <td>1</td>\n",
       "      <td>0</td>\n",
       "      <td>1</td>\n",
       "      <td>0</td>\n",
       "      <td>0</td>\n",
       "      <td>1</td>\n",
       "      <td>0</td>\n",
       "      <td>0</td>\n",
       "      <td>0</td>\n",
       "    </tr>\n",
       "    <tr>\n",
       "      <th>1</th>\n",
       "      <td>2</td>\n",
       "      <td>5</td>\n",
       "      <td>2015-07-31</td>\n",
       "      <td>6064</td>\n",
       "      <td>1</td>\n",
       "      <td>1</td>\n",
       "      <td>570.00</td>\n",
       "      <td>11.00</td>\n",
       "      <td>2,007.00</td>\n",
       "      <td>1</td>\n",
       "      <td>13.00</td>\n",
       "      <td>2,010.00</td>\n",
       "      <td>9.70</td>\n",
       "      <td>31</td>\n",
       "      <td>7</td>\n",
       "      <td>2015</td>\n",
       "      <td>1,950.00</td>\n",
       "      <td>64.07</td>\n",
       "      <td>2,829.00</td>\n",
       "      <td>92.95</td>\n",
       "      <td>1</td>\n",
       "      <td>0</td>\n",
       "      <td>0</td>\n",
       "      <td>0</td>\n",
       "      <td>1</td>\n",
       "      <td>0</td>\n",
       "      <td>0</td>\n",
       "      <td>0</td>\n",
       "      <td>1</td>\n",
       "      <td>0</td>\n",
       "      <td>0</td>\n",
       "      <td>0</td>\n",
       "      <td>0</td>\n",
       "      <td>1</td>\n",
       "      <td>0</td>\n",
       "    </tr>\n",
       "    <tr>\n",
       "      <th>2</th>\n",
       "      <td>3</td>\n",
       "      <td>5</td>\n",
       "      <td>2015-07-31</td>\n",
       "      <td>8314</td>\n",
       "      <td>1</td>\n",
       "      <td>1</td>\n",
       "      <td>14,130.00</td>\n",
       "      <td>12.00</td>\n",
       "      <td>2,006.00</td>\n",
       "      <td>1</td>\n",
       "      <td>14.00</td>\n",
       "      <td>2,011.00</td>\n",
       "      <td>10.13</td>\n",
       "      <td>31</td>\n",
       "      <td>7</td>\n",
       "      <td>2015</td>\n",
       "      <td>1,579.00</td>\n",
       "      <td>51.88</td>\n",
       "      <td>3,164.00</td>\n",
       "      <td>103.95</td>\n",
       "      <td>1</td>\n",
       "      <td>0</td>\n",
       "      <td>0</td>\n",
       "      <td>0</td>\n",
       "      <td>1</td>\n",
       "      <td>0</td>\n",
       "      <td>0</td>\n",
       "      <td>0</td>\n",
       "      <td>1</td>\n",
       "      <td>0</td>\n",
       "      <td>0</td>\n",
       "      <td>0</td>\n",
       "      <td>0</td>\n",
       "      <td>1</td>\n",
       "      <td>0</td>\n",
       "    </tr>\n",
       "    <tr>\n",
       "      <th>3</th>\n",
       "      <td>4</td>\n",
       "      <td>5</td>\n",
       "      <td>2015-07-31</td>\n",
       "      <td>13995</td>\n",
       "      <td>1</td>\n",
       "      <td>1</td>\n",
       "      <td>620.00</td>\n",
       "      <td>9.00</td>\n",
       "      <td>2,009.00</td>\n",
       "      <td>0</td>\n",
       "      <td>0.00</td>\n",
       "      <td>0.00</td>\n",
       "      <td>9.34</td>\n",
       "      <td>31</td>\n",
       "      <td>7</td>\n",
       "      <td>2015</td>\n",
       "      <td>0.00</td>\n",
       "      <td>0.00</td>\n",
       "      <td>2,159.00</td>\n",
       "      <td>70.93</td>\n",
       "      <td>1</td>\n",
       "      <td>0</td>\n",
       "      <td>0</td>\n",
       "      <td>0</td>\n",
       "      <td>0</td>\n",
       "      <td>0</td>\n",
       "      <td>1</td>\n",
       "      <td>0</td>\n",
       "      <td>0</td>\n",
       "      <td>0</td>\n",
       "      <td>1</td>\n",
       "      <td>1</td>\n",
       "      <td>0</td>\n",
       "      <td>0</td>\n",
       "      <td>0</td>\n",
       "    </tr>\n",
       "    <tr>\n",
       "      <th>4</th>\n",
       "      <td>5</td>\n",
       "      <td>5</td>\n",
       "      <td>2015-07-31</td>\n",
       "      <td>4822</td>\n",
       "      <td>1</td>\n",
       "      <td>1</td>\n",
       "      <td>29,910.00</td>\n",
       "      <td>4.00</td>\n",
       "      <td>2,015.00</td>\n",
       "      <td>0</td>\n",
       "      <td>0.00</td>\n",
       "      <td>0.00</td>\n",
       "      <td>8.63</td>\n",
       "      <td>31</td>\n",
       "      <td>7</td>\n",
       "      <td>2015</td>\n",
       "      <td>0.00</td>\n",
       "      <td>0.00</td>\n",
       "      <td>121.00</td>\n",
       "      <td>3.98</td>\n",
       "      <td>1</td>\n",
       "      <td>0</td>\n",
       "      <td>0</td>\n",
       "      <td>0</td>\n",
       "      <td>1</td>\n",
       "      <td>0</td>\n",
       "      <td>0</td>\n",
       "      <td>0</td>\n",
       "      <td>1</td>\n",
       "      <td>0</td>\n",
       "      <td>0</td>\n",
       "      <td>1</td>\n",
       "      <td>0</td>\n",
       "      <td>0</td>\n",
       "      <td>0</td>\n",
       "    </tr>\n",
       "  </tbody>\n",
       "</table>\n",
       "</div>"
      ],
      "text/plain": [
       "   Store  DayOfWeek       Date  Sales  Promo  SchoolHoliday  \\\n",
       "0      1          5 2015-07-31   5263      1              1   \n",
       "1      2          5 2015-07-31   6064      1              1   \n",
       "2      3          5 2015-07-31   8314      1              1   \n",
       "3      4          5 2015-07-31  13995      1              1   \n",
       "4      5          5 2015-07-31   4822      1              1   \n",
       "\n",
       "   CompetitionDistance  CompetitionOpenSinceMonth  CompetitionOpenSinceYear  \\\n",
       "0             1,270.00                       9.00                  2,008.00   \n",
       "1               570.00                      11.00                  2,007.00   \n",
       "2            14,130.00                      12.00                  2,006.00   \n",
       "3               620.00                       9.00                  2,009.00   \n",
       "4            29,910.00                       4.00                  2,015.00   \n",
       "\n",
       "   Promo2  Promo2SinceWeek  Promo2SinceYear  Avg_Sales_Per_Customer  Day  \\\n",
       "0       0             0.00             0.00                    9.48   31   \n",
       "1       1            13.00         2,010.00                    9.70   31   \n",
       "2       1            14.00         2,011.00                   10.13   31   \n",
       "3       0             0.00             0.00                    9.34   31   \n",
       "4       0             0.00             0.00                    8.63   31   \n",
       "\n",
       "   Month  Year  DaysSincePromo2  MonthsSincePromo2  DaysSinceCompetition  \\\n",
       "0      7  2015             0.00               0.00              2,524.00   \n",
       "1      7  2015         1,950.00              64.07              2,829.00   \n",
       "2      7  2015         1,579.00              51.88              3,164.00   \n",
       "3      7  2015             0.00               0.00              2,159.00   \n",
       "4      7  2015             0.00               0.00                121.00   \n",
       "\n",
       "   MonthsSinceCompetition  StateHoliday_0  StateHoliday_a  StateHoliday_b  \\\n",
       "0                   82.93               1               0               0   \n",
       "1                   92.95               1               0               0   \n",
       "2                  103.95               1               0               0   \n",
       "3                   70.93               1               0               0   \n",
       "4                    3.98               1               0               0   \n",
       "\n",
       "   StateHoliday_c  StoreType_a  StoreType_b  StoreType_c  StoreType_d  \\\n",
       "0               0            0            0            1            0   \n",
       "1               0            1            0            0            0   \n",
       "2               0            1            0            0            0   \n",
       "3               0            0            0            1            0   \n",
       "4               0            1            0            0            0   \n",
       "\n",
       "   Assortment_a  Assortment_b  Assortment_c  PromoInterval_0  \\\n",
       "0             1             0             0                1   \n",
       "1             1             0             0                0   \n",
       "2             1             0             0                0   \n",
       "3             0             0             1                1   \n",
       "4             1             0             0                1   \n",
       "\n",
       "   PromoInterval_Feb,May,Aug,Nov  PromoInterval_Jan,Apr,Jul,Oct  \\\n",
       "0                              0                              0   \n",
       "1                              0                              1   \n",
       "2                              0                              1   \n",
       "3                              0                              0   \n",
       "4                              0                              0   \n",
       "\n",
       "   PromoInterval_Mar,Jun,Sept,Dec  \n",
       "0                               0  \n",
       "1                               0  \n",
       "2                               0  \n",
       "3                               0  \n",
       "4                               0  "
      ]
     },
     "execution_count": 27,
     "metadata": {},
     "output_type": "execute_result"
    }
   ],
   "source": [
    "## Par exemple, les colonnes Open et Customers (leak de la target) ne seront pas gardées\n",
    "transformed_data = data.drop(['Open', 'Customers', 'CompetitionOpenSince', 'Promo2Since'], axis=1)\n",
    "transformed_data.head()"
   ]
  },
  {
   "cell_type": "markdown",
   "metadata": {
    "heading_collapsed": true,
    "hidden": true
   },
   "source": [
    "## 1.2 Stratégie de validation et split du jeu de données"
   ]
  },
  {
   "cell_type": "markdown",
   "metadata": {
    "hidden": true
   },
   "source": [
    "<h5>Quelle(s) différentes métrique(s) peut-on utiliser ?</h5>\n",
    "<br> La documentation sklearn contient la liste des métriques implémentées et leurs explications : <a href=\"https://scikit-learn.org/stable/modules/model_evaluation.html#regression-metrics\"> **Lien ICI** </a><br>"
   ]
  },
  {
   "cell_type": "markdown",
   "metadata": {
    "hidden": true
   },
   "source": [
    "- ..."
   ]
  },
  {
   "cell_type": "markdown",
   "metadata": {
    "hidden": true
   },
   "source": [
    "<h5>Pour la suite, on vous demandera d'inclure le <u>RMSE</u> dans vos résultats.</h5>"
   ]
  },
  {
   "cell_type": "markdown",
   "metadata": {
    "hidden": true
   },
   "source": [
    "<h5>Comment réaliser la validation des modèles entrainés ? (split temporel, split aléatoire, ...)</h5>\n",
    "<br> Proposition : un split temporel - entrainer sur les données du 01/01/2013 au 31/12/2014 et évaluer sur les données à partir du 01/01/2015"
   ]
  },
  {
   "cell_type": "code",
   "execution_count": 28,
   "metadata": {},
   "outputs": [],
   "source": [
    "## Séparation train/test (nh'ésitez pas à tester plusieurs splits)\n",
    "train_date = (transformed_data['Date'] >= '2013-01-01') & (transformed_data['Date'] <= '2017-12-31')\n",
    "test_date = (transformed_data['Date'] >= '2015-01-01')\n",
    "data_train = transformed_data[train_date]\n",
    "data_test = transformed_data[test_date]"
   ]
  },
  {
   "cell_type": "code",
   "execution_count": 29,
   "metadata": {},
   "outputs": [],
   "source": [
    "X_train = data_train.drop(['Sales','Date'], axis=1).values\n",
    "y_train = data_train.Sales.values\n",
    "X_test = data_test.drop(['Sales','Date'], axis=1).values\n",
    "y_test = data_test.Sales.values"
   ]
  },
  {
   "cell_type": "code",
   "execution_count": 30,
   "metadata": {},
   "outputs": [
    {
     "name": "stdout",
     "output_type": "stream",
     "text": [
      "X_train shape : (844338, 33)\n",
      "y_train shape : (844338,)\n",
      "X_test shape : (196029, 33)\n",
      "y_test shape : (196029,)\n",
      "The training dataset has 844338 examples and 33 features.\n",
      "The testing dataset has 196029 examples and 33 features.\n"
     ]
    }
   ],
   "source": [
    "print('X_train shape :', X_train.shape)\n",
    "print('y_train shape :', y_train.shape)\n",
    "print('X_test shape :', X_test.shape)\n",
    "print('y_test shape :', y_test.shape)\n",
    "print(\"The training dataset has {} examples and {} features.\".format(X_train.shape[0], X_train.shape[1]))\n",
    "print(\"The testing dataset has {} examples and {} features.\".format(X_test.shape[0], X_test.shape[1]))"
   ]
  },
  {
   "cell_type": "markdown",
   "metadata": {
    "hidden": true
   },
   "source": [
    "<h5>Normalisation des données</h5>"
   ]
  },
  {
   "cell_type": "markdown",
   "metadata": {
    "hidden": true
   },
   "source": [
    "Essayer différentes normalisations (standard scaler, etc.) si ça vous semble pertinents.\n",
    "<br> La documentation sklearn contient la liste des métriques implémentées et leurs explications : <a href=\"https://scikit-learn.org/stable/modules/preprocessing.html\">**Lien ICI**</a><br>\n",
    "**Remarque 1** : la méthode fit() pour la normalisation doit être appliquée sur le jeu de train uniquement. La même transformation sera appliquée (fit_transform()) ensuite sur les jeux de train et test. <br>\n",
    "**Remarque 2** : vous pouvez évaluer un même modèle avant / après normalisation pour comparer la résultats."
   ]
  },
  {
   "cell_type": "code",
   "execution_count": 31,
   "metadata": {},
   "outputs": [],
   "source": [
    "from sklearn.preprocessing import StandardScaler\n",
    "feature_scaler = StandardScaler()\n",
    "feature_scaler = feature_scaler.fit(X_train)\n",
    "X_training = feature_scaler.fit_transform(X_train)\n",
    "X_testing = feature_scaler.transform(X_test)"
   ]
  },
  {
   "cell_type": "markdown",
   "metadata": {
    "heading_collapsed": true
   },
   "source": [
    "# 2. Régression Linéaire"
   ]
  },
  {
   "cell_type": "markdown",
   "metadata": {
    "hidden": true
   },
   "source": [
    "Pour les différents modèles, la documentation sklearn détaille les différentes fonctions et méthodes disponibles que vous pourrez utiliser. Vous pourrez également vous baser sur le Notebook du cours 0, partie 3. (Introduction Python).\n",
    "<br> Documentation SKLearn Régression Linéaire : <a href=\"https://scikit-learn.org/stable/modules/generated/sklearn.linear_model.LinearRegression.html\">**Lien ICI**</a><br>"
   ]
  },
  {
   "cell_type": "markdown",
   "metadata": {},
   "source": [
    "### Evaluation du modèle avant normalisation"
   ]
  },
  {
   "cell_type": "code",
   "execution_count": 32,
   "metadata": {},
   "outputs": [
    {
     "name": "stdout",
     "output_type": "stream",
     "text": [
      "Training: R2= 0.2514710548155372  et RMSE= 2685.344087334176\n",
      "Testing: R2= 0.2625513967847568  et RMSE= 2605.5506203394425\n"
     ]
    }
   ],
   "source": [
    "# Commençons par le modèle de base \n",
    "from sklearn.linear_model import LinearRegression \n",
    "from sklearn.metrics import mean_squared_error, r2_score  \n",
    "# Création d'une instance (le modèle lin_reg) par le constructeur LinearRegression()  \n",
    "lin_reg = LinearRegression() \n",
    "# Apprentissage du modèle par la méthode fit() : Il s'agit d'une approche d'apprentissage \n",
    "# supervisée puisqu'on utilise lin_reg.fit(X_train, y_train) \n",
    "lin_reg.fit(X_train, y_train) \n",
    "# Prédiction des les données d'apprentissage X_train par la méthode .predict() \n",
    "y_pred = lin_reg.predict(X_train) \n",
    "# Evaluation de la prédiction obtenue avec les deux métriques R2 et RMSE \n",
    "rmse = np.sqrt(mean_squared_error(y_train, y_pred)) \n",
    "r2 = r2_score(y_train, y_pred) \n",
    "print(\"Training: R2=\", r2, \" et RMSE=\", rmse) \n",
    "# Prédiction sur les données de test X_test par la méthode .predict() \n",
    "y_pred = lin_reg.predict(X_test) \n",
    "# Evaluation de la prédiction obtenue avec les deux métriques R2 et RMSE \n",
    "rmse = np.sqrt(mean_squared_error(y_test, y_pred)) \n",
    "r2 = r2_score(y_test, y_pred) \n",
    "print(\"Testing: R2=\", r2, \" et RMSE=\", rmse) "
   ]
  },
  {
   "cell_type": "markdown",
   "metadata": {},
   "source": [
    "### Evaluation du modèle après normalisation"
   ]
  },
  {
   "cell_type": "code",
   "execution_count": 33,
   "metadata": {},
   "outputs": [
    {
     "name": "stdout",
     "output_type": "stream",
     "text": [
      "Training: R2= 0.2514660453394555  et RMSE= 2685.35307305514\n",
      "Testing: R2= 0.2626241184660568  et RMSE= 2605.422147187209\n"
     ]
    }
   ],
   "source": [
    "from sklearn.linear_model import LinearRegression \n",
    "from sklearn.metrics import mean_squared_error, r2_score  \n",
    "lin_reg = LinearRegression() \n",
    "lin_reg.fit(X_training, y_train)  \n",
    "y_pred = lin_reg.predict(X_training) \n",
    "rmse = np.sqrt(mean_squared_error(y_train, y_pred)) \n",
    "r2 = r2_score(y_train, y_pred) \n",
    "print(\"Training: R2=\", r2, \" et RMSE=\", rmse) \n",
    "y_pred = lin_reg.predict(X_testing) \n",
    "rmse = np.sqrt(mean_squared_error(y_test, y_pred)) \n",
    "r2 = r2_score(y_test, y_pred) \n",
    "print(\"Testing: R2=\", r2, \" et RMSE=\", rmse) "
   ]
  },
  {
   "cell_type": "markdown",
   "metadata": {
    "heading_collapsed": true
   },
   "source": [
    "# 3. Decision Tree"
   ]
  },
  {
   "cell_type": "markdown",
   "metadata": {
    "hidden": true
   },
   "source": [
    "*Même démarche pour la régression linéaire...*\n",
    "<br> Documentation Decision Tree : <a href=\"https://scikit-learn.org/stable/modules/generated/sklearn.tree.DecisionTreeRegressor.html\">**Lien ICI**</a><br>"
   ]
  },
  {
   "cell_type": "code",
   "execution_count": 34,
   "metadata": {
    "hidden": true
   },
   "outputs": [
    {
     "name": "stdout",
     "output_type": "stream",
     "text": [
      "Training: R2= 1.0  et RMSE= 0.0\n",
      "Testing: R2= 1.0  et RMSE= 0.0\n"
     ]
    }
   ],
   "source": [
    "from sklearn.tree import DecisionTreeRegressor \n",
    "# Création d'une instance dt_reg par le constructeur DecisionTreeRegressor() \n",
    "dt_reg = DecisionTreeRegressor() \n",
    "# Apprentissage du modèle dt_reg par fit \n",
    "dt_reg.fit(X_train, y_train) \n",
    "# Pédiction sur X_train par la méthode predict() \n",
    "y_pred = dt_reg.predict(X_train) \n",
    "# Evaluation en calculant les métriques R2 et RMSE \n",
    "rmse = np.sqrt(mean_squared_error(y_train, y_pred)) \n",
    "r2 = r2_score(y_train, y_pred) \n",
    "print(\"Training: R2=\", r2, \" et RMSE=\", rmse) \n",
    "# Prédiction sur X_test par la méthode predict() \n",
    "y_pred = dt_reg.predict(X_test) \n",
    "# Evaluation en calculant les métriques R2 et RMSE \n",
    "rmse = np.sqrt(mean_squared_error(y_test, y_pred)) \n",
    "r2 = r2_score(y_test, y_pred) \n",
    "print(\"Testing: R2=\", r2, \" et RMSE=\", rmse)"
   ]
  },
  {
   "cell_type": "markdown",
   "metadata": {},
   "source": [
    "### Conclusion : \n",
    "> Pour DecisionTreeRegressor, plus les valeurs de RMSE et de R-carré (R2) sont proches de 0 et 1, respectivement, plus les résultats du modèle seront précis.\n",
    "\n",
    "> Une valeur RMSE >= 0,5 et une valeur R2 =< 0.5 reflète la faible capacité du modèle à prédire avec précision les données.\n",
    "\n",
    "> Dans notre cas notre modèle est bien précis."
   ]
  },
  {
   "cell_type": "markdown",
   "metadata": {
    "heading_collapsed": true
   },
   "source": [
    "# 4. Random Forest"
   ]
  },
  {
   "cell_type": "markdown",
   "metadata": {
    "hidden": true
   },
   "source": [
    "<br> Documentation Random Forest : <a href=\"https://scikit-learn.org/stable/modules/generated/sklearn.ensemble.RandomForestRegressor.html\">**Lien ICI**</a><br>"
   ]
  },
  {
   "cell_type": "code",
   "execution_count": null,
   "metadata": {
    "hidden": true
   },
   "outputs": [],
   "source": [
    "from sklearn.ensemble import RandomForestRegressor \n",
    "# Création d'une instance par le constructeur RandomForestRegressor() \n",
    "rf_reg = RandomForestRegressor() \n",
    "# Apprentissage du modèle rf_reg par la méthode fit() \n",
    "rf_reg.fit(X_train, y_train) \n",
    "# Prédiction sur X_train par la méthode predict() \n",
    "y_pred = rf_reg.predict(X_train) \n",
    "# Evaluation e calculant R2 et RMSE \n",
    "rmse = np.sqrt(mean_squared_error(y_train, y_pred)) \n",
    "r2 = r2_score(y_train, y_pred) \n",
    "print(\"Training: R2=\", r2, \" et RMSE=\", rmse) \n",
    "# Prédiction sur X_test par la méthode predict() \n",
    "y_pred = rf_reg.predict(X_test) \n",
    "#Evaluation e calculant R2 et RMSE \n",
    "rmse = np.sqrt(mean_squared_error(y_test, y_pred)) \n",
    "r2 = r2_score(y_test, y_pred) \n",
    "print(\"Testing: R2=\", r2, \" et RMSE=\", rmse) "
   ]
  },
  {
   "cell_type": "markdown",
   "metadata": {
    "heading_collapsed": true
   },
   "source": [
    "# 5. [Optional] Autres modèles à explorer"
   ]
  },
  {
   "cell_type": "markdown",
   "metadata": {
    "hidden": true
   },
   "source": [
    "- Si vous le souhaitez, vous pouvez explorer d'autres modèles : XGBoost, SVM, ...\n",
    "- A part les modèles deep learning, vous trouverez des implémentations des modèles ML dans sklearn"
   ]
  },
  {
   "cell_type": "code",
   "execution_count": null,
   "metadata": {
    "hidden": true
   },
   "outputs": [],
   "source": []
  },
  {
   "cell_type": "code",
   "execution_count": null,
   "metadata": {
    "hidden": true
   },
   "outputs": [],
   "source": []
  },
  {
   "cell_type": "markdown",
   "metadata": {
    "heading_collapsed": true
   },
   "source": [
    "# Conclusions"
   ]
  },
  {
   "cell_type": "markdown",
   "metadata": {
    "hidden": true
   },
   "source": [
    "- Présentez et comparer les différents résultats obtenus avec les différents modèles. Quel modèle vous retenez et pourquoi ?\n",
    "- Interprétabilité métier des résultats"
   ]
  },
  {
   "cell_type": "code",
   "execution_count": 35,
   "metadata": {
    "hidden": true
   },
   "outputs": [
    {
     "name": "stdout",
     "output_type": "stream",
     "text": [
      "{'copy_X': True, 'fit_intercept': True, 'n_jobs': None, 'normalize': False}\n",
      "{'ccp_alpha': 0.0, 'criterion': 'mse', 'max_depth': None, 'max_features': None, 'max_leaf_nodes': None, 'min_impurity_decrease': 0.0, 'min_impurity_split': None, 'min_samples_leaf': 1, 'min_samples_split': 2, 'min_weight_fraction_leaf': 0.0, 'presort': 'deprecated', 'random_state': None, 'splitter': 'best'}\n"
     ]
    }
   ],
   "source": [
    "# Les modèles testés from sklearn.pipeline \n",
    "from sklearn.pipeline import Pipeline\n",
    "from sklearn.linear_model import LinearRegression \n",
    "from sklearn.tree import DecisionTreeRegressor \n",
    "from sklearn.ensemble import RandomForestRegressor \n",
    " \n",
    "print(LinearRegression().get_params()) \n",
    "print(DecisionTreeRegressor().get_params()) \n",
    "print(RandomForestRegressor().get_params()"
   ]
  },
  {
   "cell_type": "code",
   "execution_count": 36,
   "metadata": {
    "hidden": true
   },
   "outputs": [],
   "source": [
    "# K-fold cross-validation et GridSearchCV \n",
    "pipelines = [] \n",
    "params = [] \n",
    "names = [] \n",
    " \n",
    "# Ajouter LinearRegression \n",
    "pipelines.append(Pipeline([('clf', LinearRegression())])) \n",
    "## LinearRegressionRegressor \n",
    "params.append({'clf__normalize':[True]}) \n",
    "names.append('LinearRegression') \n",
    "# Ajouter DecisionTreeRegressor \n",
    "pipelines.append(Pipeline([('clf', DecisionTreeRegressor())])) \n",
    "## DecisionTreeRegressor \n",
    "params.append({'clf__max_depth':np.linspace(5, 15, 5)}) \n",
    "names.append('DecisionTreeRegressor') \n",
    "# Ajouter RandomForestRegressor \n",
    "pipelines.append(Pipeline([('clf', RandomForestRegressor())])) \n",
    "## RandomForestRegressor \n",
    "params.append({'clf__n_estimators': [50,100,200]}) \n",
    "names.append('RandomForestRegressor')"
   ]
  },
  {
   "cell_type": "code",
   "execution_count": 37,
   "metadata": {},
   "outputs": [
    {
     "name": "stdout",
     "output_type": "stream",
     "text": [
      "LinearRegression R2: 0.25138422362072194\n",
      "DecisionTreeRegressor R2: 0.7145989671276786\n"
     ]
    }
   ],
   "source": [
    "# L'enraînement avec cross-validation \n",
    "# n_jobs = -1 signifie que le calcul sera distribué sur tous les CPU de l'ordinateur \n",
    "from sklearn.model_selection import KFold, GridSearchCV, cross_val_score \n",
    "def model(pipeline, parameters, name, X, y):        \n",
    "    cv = KFold(n_splits=3, shuffle=True, random_state=32)    \n",
    "    grid_obj = GridSearchCV(estimator=pipeline, param_grid=parameters, cv=cv, scoring='r2', n_jobs=-1)    \n",
    "    grid_obj.fit(X,y)      \n",
    "    print(name, 'R2:', grid_obj.best_score_)    \n",
    "    estimator = grid_obj.best_estimator_    \n",
    "    estimator.fit(X,y) # Training sur tout training data   \n",
    "    return estimator   \n",
    "estimators = [] \n",
    "for i in range(len(pipelines)):\n",
    "    estimators.append(model(pipelines[i], params[i], names[i], X_train, y_train))"
   ]
  }
 ],
 "metadata": {
  "kernelspec": {
   "display_name": "Python 3",
   "language": "python",
   "name": "python3"
  },
  "language_info": {
   "codemirror_mode": {
    "name": "ipython",
    "version": 3
   },
   "file_extension": ".py",
   "mimetype": "text/x-python",
   "name": "python",
   "nbconvert_exporter": "python",
   "pygments_lexer": "ipython3",
   "version": "3.7.3"
  }
 },
 "nbformat": 4,
 "nbformat_minor": 2
}
